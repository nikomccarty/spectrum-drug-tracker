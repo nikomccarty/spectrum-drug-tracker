{
 "cells": [
  {
   "cell_type": "code",
   "execution_count": 2,
   "id": "a7de7e30",
   "metadata": {},
   "outputs": [],
   "source": [
    "import numpy as np\n",
    "import pandas as pd"
   ]
  },
  {
   "cell_type": "code",
   "execution_count": 3,
   "id": "e34fad4a",
   "metadata": {},
   "outputs": [],
   "source": [
    "df = pd.read_csv('./../datasets/December_2021/reveal_story_data_placebo_only.csv')"
   ]
  },
  {
   "cell_type": "code",
   "execution_count": 4,
   "id": "e4db05fb",
   "metadata": {},
   "outputs": [
    {
     "data": {
      "text/html": [
       "<div>\n",
       "<style scoped>\n",
       "    .dataframe tbody tr th:only-of-type {\n",
       "        vertical-align: middle;\n",
       "    }\n",
       "\n",
       "    .dataframe tbody tr th {\n",
       "        vertical-align: top;\n",
       "    }\n",
       "\n",
       "    .dataframe thead th {\n",
       "        text-align: right;\n",
       "    }\n",
       "</style>\n",
       "<table border=\"1\" class=\"dataframe\">\n",
       "  <thead>\n",
       "    <tr style=\"text-align: right;\">\n",
       "      <th></th>\n",
       "      <th>index</th>\n",
       "      <th>NCTId</th>\n",
       "      <th>TrialAcronym</th>\n",
       "      <th>ArmGroupDescription</th>\n",
       "      <th>ArmGroupInterventionName</th>\n",
       "      <th>DrugsTested</th>\n",
       "      <th>OtherDrugNames</th>\n",
       "      <th>DrugMechanism</th>\n",
       "      <th>Sources</th>\n",
       "      <th>PreviouslyApproved</th>\n",
       "      <th>...</th>\n",
       "      <th>StartDateType</th>\n",
       "      <th>StatusVerifiedDate</th>\n",
       "      <th>StdAge</th>\n",
       "      <th>StudyFirstPostDate</th>\n",
       "      <th>StudyFirstPostDateType</th>\n",
       "      <th>StudyFirstSubmitDate</th>\n",
       "      <th>StudyFirstSubmitQCDate</th>\n",
       "      <th>StudyType</th>\n",
       "      <th>VersionHolder</th>\n",
       "      <th>WhyStopped</th>\n",
       "    </tr>\n",
       "  </thead>\n",
       "  <tbody>\n",
       "    <tr>\n",
       "      <th>0</th>\n",
       "      <td>284</td>\n",
       "      <td>NCT02008396</td>\n",
       "      <td>NaN</td>\n",
       "      <td>Subjects will receive inactive placebo during ...</td>\n",
       "      <td>Drug: Placebo|Behavioral: Psychotherapy|Drug: ...</td>\n",
       "      <td>3,4-Methylenedioxymethamphetamine (MDMA)</td>\n",
       "      <td>Ecstasy</td>\n",
       "      <td>MDMA is a synthetic serotonergic agonist that ...</td>\n",
       "      <td>https://www.spectrumnews.org/news/ecstasy-ingr...</td>\n",
       "      <td>No</td>\n",
       "      <td>...</td>\n",
       "      <td>NaN</td>\n",
       "      <td>19-Jun</td>\n",
       "      <td>Adult|Older Adult</td>\n",
       "      <td>11-Dec-13</td>\n",
       "      <td>Estimate</td>\n",
       "      <td>NaN</td>\n",
       "      <td>6-Dec-13</td>\n",
       "      <td>Interventional</td>\n",
       "      <td>15-Oct-21</td>\n",
       "      <td>NaN</td>\n",
       "    </tr>\n",
       "    <tr>\n",
       "      <th>1</th>\n",
       "      <td>176</td>\n",
       "      <td>NCT05030129</td>\n",
       "      <td>NaN</td>\n",
       "      <td>Ergoloid mesylates (EM) 1 mg three times daily...</td>\n",
       "      <td>Dietary Supplement: 5-Hydroxytryptophan / Vita...</td>\n",
       "      <td>5-Hydroxytryptophan|Vitamin B6|Ergoloid Mesylate</td>\n",
       "      <td>Oxitriptan|Pyridoxine|Dihydroergotoxine</td>\n",
       "      <td>5-Hydroxytryptophan is a compound that increas...</td>\n",
       "      <td>https://www.spectrumnews.org/opinion/genetic-r...</td>\n",
       "      <td>No|Yes|Yes</td>\n",
       "      <td>...</td>\n",
       "      <td>Anticipated</td>\n",
       "      <td>21-Aug</td>\n",
       "      <td>Adult</td>\n",
       "      <td>1-Sep-21</td>\n",
       "      <td>Actual</td>\n",
       "      <td>5-Aug-21</td>\n",
       "      <td>27-Aug-21</td>\n",
       "      <td>Interventional</td>\n",
       "      <td>15-Oct-21</td>\n",
       "      <td>NaN</td>\n",
       "    </tr>\n",
       "    <tr>\n",
       "      <th>2</th>\n",
       "      <td>44</td>\n",
       "      <td>NCT04895215</td>\n",
       "      <td>NaN</td>\n",
       "      <td>NaN</td>\n",
       "      <td>Drug: AB-2004|Drug: AB-2004|Drug: Placebo</td>\n",
       "      <td>AB-2004</td>\n",
       "      <td>None</td>\n",
       "      <td>AB-2004 is an experimental compound designed t...</td>\n",
       "      <td>https://www.nature.com/articles/d43747-020-011...</td>\n",
       "      <td>No</td>\n",
       "      <td>...</td>\n",
       "      <td>Actual</td>\n",
       "      <td>21-Oct</td>\n",
       "      <td>Child</td>\n",
       "      <td>20-May-21</td>\n",
       "      <td>Actual</td>\n",
       "      <td>17-May-21</td>\n",
       "      <td>17-May-21</td>\n",
       "      <td>Interventional</td>\n",
       "      <td>9-Nov-21</td>\n",
       "      <td>NaN</td>\n",
       "    </tr>\n",
       "    <tr>\n",
       "      <th>3</th>\n",
       "      <td>204</td>\n",
       "      <td>NCT02998151</td>\n",
       "      <td>LAM</td>\n",
       "      <td>Placebo pill</td>\n",
       "      <td>Drug: Placebo|Drug: Acamprosate|Drug: Lovastat...</td>\n",
       "      <td>Acamprosate|Lovastatin|Minocycline</td>\n",
       "      <td>Campral|Altoprev,Mevacor|Cleeravue-M, Dynacin,...</td>\n",
       "      <td>Acamprosate is a structural analogue of gamma-...</td>\n",
       "      <td>https://www.spectrumnews.org/news/finding-a-pa...</td>\n",
       "      <td>Yes|Yes|Yes</td>\n",
       "      <td>...</td>\n",
       "      <td>NaN</td>\n",
       "      <td>20-Mar</td>\n",
       "      <td>Child|Adult</td>\n",
       "      <td>20-Dec-16</td>\n",
       "      <td>Estimate</td>\n",
       "      <td>1-Dec-16</td>\n",
       "      <td>15-Dec-16</td>\n",
       "      <td>Interventional</td>\n",
       "      <td>15-Oct-21</td>\n",
       "      <td>NaN</td>\n",
       "    </tr>\n",
       "    <tr>\n",
       "      <th>4</th>\n",
       "      <td>154</td>\n",
       "      <td>NCT00718341</td>\n",
       "      <td>NaN</td>\n",
       "      <td>NaN</td>\n",
       "      <td>Drug: AFQ056|Drug: Placebo</td>\n",
       "      <td>AFQ056</td>\n",
       "      <td>Mavoglurant</td>\n",
       "      <td>AFQ056 is an antagonist of metabotropic glutam...</td>\n",
       "      <td>https://www.ncbi.nlm.nih.gov/pmc/articles/PMC6...</td>\n",
       "      <td>No</td>\n",
       "      <td>...</td>\n",
       "      <td>NaN</td>\n",
       "      <td>10-May</td>\n",
       "      <td>Adult</td>\n",
       "      <td>18-Jul-08</td>\n",
       "      <td>Estimate</td>\n",
       "      <td>17-Jul-08</td>\n",
       "      <td>17-Jul-08</td>\n",
       "      <td>Interventional</td>\n",
       "      <td>15-Oct-21</td>\n",
       "      <td>NaN</td>\n",
       "    </tr>\n",
       "  </tbody>\n",
       "</table>\n",
       "<p>5 rows × 81 columns</p>\n",
       "</div>"
      ],
      "text/plain": [
       "   index        NCTId TrialAcronym  \\\n",
       "0    284  NCT02008396          NaN   \n",
       "1    176  NCT05030129          NaN   \n",
       "2     44  NCT04895215          NaN   \n",
       "3    204  NCT02998151          LAM   \n",
       "4    154  NCT00718341          NaN   \n",
       "\n",
       "                                 ArmGroupDescription  \\\n",
       "0  Subjects will receive inactive placebo during ...   \n",
       "1  Ergoloid mesylates (EM) 1 mg three times daily...   \n",
       "2                                                NaN   \n",
       "3                                       Placebo pill   \n",
       "4                                                NaN   \n",
       "\n",
       "                            ArmGroupInterventionName  \\\n",
       "0  Drug: Placebo|Behavioral: Psychotherapy|Drug: ...   \n",
       "1  Dietary Supplement: 5-Hydroxytryptophan / Vita...   \n",
       "2          Drug: AB-2004|Drug: AB-2004|Drug: Placebo   \n",
       "3  Drug: Placebo|Drug: Acamprosate|Drug: Lovastat...   \n",
       "4                         Drug: AFQ056|Drug: Placebo   \n",
       "\n",
       "                                        DrugsTested  \\\n",
       "0          3,4-Methylenedioxymethamphetamine (MDMA)   \n",
       "1  5-Hydroxytryptophan|Vitamin B6|Ergoloid Mesylate   \n",
       "2                                           AB-2004   \n",
       "3                Acamprosate|Lovastatin|Minocycline   \n",
       "4                                            AFQ056   \n",
       "\n",
       "                                      OtherDrugNames  \\\n",
       "0                                            Ecstasy   \n",
       "1            Oxitriptan|Pyridoxine|Dihydroergotoxine   \n",
       "2                                               None   \n",
       "3  Campral|Altoprev,Mevacor|Cleeravue-M, Dynacin,...   \n",
       "4                                        Mavoglurant   \n",
       "\n",
       "                                       DrugMechanism  \\\n",
       "0  MDMA is a synthetic serotonergic agonist that ...   \n",
       "1  5-Hydroxytryptophan is a compound that increas...   \n",
       "2  AB-2004 is an experimental compound designed t...   \n",
       "3  Acamprosate is a structural analogue of gamma-...   \n",
       "4  AFQ056 is an antagonist of metabotropic glutam...   \n",
       "\n",
       "                                             Sources PreviouslyApproved  ...  \\\n",
       "0  https://www.spectrumnews.org/news/ecstasy-ingr...                 No  ...   \n",
       "1  https://www.spectrumnews.org/opinion/genetic-r...         No|Yes|Yes  ...   \n",
       "2  https://www.nature.com/articles/d43747-020-011...                 No  ...   \n",
       "3  https://www.spectrumnews.org/news/finding-a-pa...        Yes|Yes|Yes  ...   \n",
       "4  https://www.ncbi.nlm.nih.gov/pmc/articles/PMC6...                 No  ...   \n",
       "\n",
       "  StartDateType StatusVerifiedDate             StdAge StudyFirstPostDate  \\\n",
       "0           NaN             19-Jun  Adult|Older Adult          11-Dec-13   \n",
       "1   Anticipated             21-Aug              Adult           1-Sep-21   \n",
       "2        Actual             21-Oct              Child          20-May-21   \n",
       "3           NaN             20-Mar        Child|Adult          20-Dec-16   \n",
       "4           NaN             10-May              Adult          18-Jul-08   \n",
       "\n",
       "  StudyFirstPostDateType StudyFirstSubmitDate StudyFirstSubmitQCDate  \\\n",
       "0               Estimate                  NaN               6-Dec-13   \n",
       "1                 Actual             5-Aug-21              27-Aug-21   \n",
       "2                 Actual            17-May-21              17-May-21   \n",
       "3               Estimate             1-Dec-16              15-Dec-16   \n",
       "4               Estimate            17-Jul-08              17-Jul-08   \n",
       "\n",
       "        StudyType VersionHolder WhyStopped  \n",
       "0  Interventional     15-Oct-21        NaN  \n",
       "1  Interventional     15-Oct-21        NaN  \n",
       "2  Interventional      9-Nov-21        NaN  \n",
       "3  Interventional     15-Oct-21        NaN  \n",
       "4  Interventional     15-Oct-21        NaN  \n",
       "\n",
       "[5 rows x 81 columns]"
      ]
     },
     "execution_count": 4,
     "metadata": {},
     "output_type": "execute_result"
    }
   ],
   "source": [
    "df.head()"
   ]
  },
  {
   "cell_type": "code",
   "execution_count": 5,
   "id": "f92c84ee",
   "metadata": {},
   "outputs": [
    {
     "data": {
      "text/html": [
       "<div>\n",
       "<style scoped>\n",
       "    .dataframe tbody tr th:only-of-type {\n",
       "        vertical-align: middle;\n",
       "    }\n",
       "\n",
       "    .dataframe tbody tr th {\n",
       "        vertical-align: top;\n",
       "    }\n",
       "\n",
       "    .dataframe thead th {\n",
       "        text-align: right;\n",
       "    }\n",
       "</style>\n",
       "<table border=\"1\" class=\"dataframe\">\n",
       "  <thead>\n",
       "    <tr style=\"text-align: right;\">\n",
       "      <th></th>\n",
       "      <th>index</th>\n",
       "      <th>NCTId</th>\n",
       "      <th>TrialAcronym</th>\n",
       "      <th>ArmGroupDescription</th>\n",
       "      <th>ArmGroupInterventionName</th>\n",
       "      <th>DrugsTested</th>\n",
       "      <th>OtherDrugNames</th>\n",
       "      <th>DrugMechanism</th>\n",
       "      <th>Sources</th>\n",
       "      <th>PreviouslyApproved</th>\n",
       "      <th>...</th>\n",
       "      <th>StartDateType</th>\n",
       "      <th>StatusVerifiedDate</th>\n",
       "      <th>StdAge</th>\n",
       "      <th>StudyFirstPostDate</th>\n",
       "      <th>StudyFirstPostDateType</th>\n",
       "      <th>StudyFirstSubmitDate</th>\n",
       "      <th>StudyFirstSubmitQCDate</th>\n",
       "      <th>StudyType</th>\n",
       "      <th>VersionHolder</th>\n",
       "      <th>WhyStopped</th>\n",
       "    </tr>\n",
       "  </thead>\n",
       "  <tbody>\n",
       "    <tr>\n",
       "      <th>count</th>\n",
       "      <td>211.000000</td>\n",
       "      <td>211</td>\n",
       "      <td>64</td>\n",
       "      <td>171</td>\n",
       "      <td>201</td>\n",
       "      <td>211</td>\n",
       "      <td>209</td>\n",
       "      <td>60</td>\n",
       "      <td>93</td>\n",
       "      <td>99</td>\n",
       "      <td>...</td>\n",
       "      <td>89</td>\n",
       "      <td>210</td>\n",
       "      <td>210</td>\n",
       "      <td>210</td>\n",
       "      <td>210</td>\n",
       "      <td>209</td>\n",
       "      <td>210</td>\n",
       "      <td>210</td>\n",
       "      <td>210</td>\n",
       "      <td>19</td>\n",
       "    </tr>\n",
       "    <tr>\n",
       "      <th>unique</th>\n",
       "      <td>NaN</td>\n",
       "      <td>211</td>\n",
       "      <td>63</td>\n",
       "      <td>168</td>\n",
       "      <td>183</td>\n",
       "      <td>106</td>\n",
       "      <td>92</td>\n",
       "      <td>17</td>\n",
       "      <td>21</td>\n",
       "      <td>5</td>\n",
       "      <td>...</td>\n",
       "      <td>2</td>\n",
       "      <td>97</td>\n",
       "      <td>5</td>\n",
       "      <td>198</td>\n",
       "      <td>2</td>\n",
       "      <td>193</td>\n",
       "      <td>197</td>\n",
       "      <td>1</td>\n",
       "      <td>2</td>\n",
       "      <td>19</td>\n",
       "    </tr>\n",
       "    <tr>\n",
       "      <th>top</th>\n",
       "      <td>NaN</td>\n",
       "      <td>NCT00252603</td>\n",
       "      <td>Omega Heroes</td>\n",
       "      <td>Glycyl-L-2-Methylpropyl-L-Glutamic Acid|Strawb...</td>\n",
       "      <td>Drug: Bumetanide|Drug: Placebo</td>\n",
       "      <td>Oxytocin</td>\n",
       "      <td>None</td>\n",
       "      <td>This second-generation antipsychotic drug anta...</td>\n",
       "      <td>https://www.spectrumnews.org/opinion/how-to-im...</td>\n",
       "      <td>Yes</td>\n",
       "      <td>...</td>\n",
       "      <td>Actual</td>\n",
       "      <td>21-Sep</td>\n",
       "      <td>Child</td>\n",
       "      <td>16-Sep-15</td>\n",
       "      <td>Estimate</td>\n",
       "      <td>12-Sep-05</td>\n",
       "      <td>12-Sep-05</td>\n",
       "      <td>Interventional</td>\n",
       "      <td>15-Oct-21</td>\n",
       "      <td>The study was terminated due to enrollment cha...</td>\n",
       "    </tr>\n",
       "    <tr>\n",
       "      <th>freq</th>\n",
       "      <td>NaN</td>\n",
       "      <td>1</td>\n",
       "      <td>2</td>\n",
       "      <td>2</td>\n",
       "      <td>3</td>\n",
       "      <td>19</td>\n",
       "      <td>21</td>\n",
       "      <td>8</td>\n",
       "      <td>19</td>\n",
       "      <td>72</td>\n",
       "      <td>...</td>\n",
       "      <td>75</td>\n",
       "      <td>10</td>\n",
       "      <td>131</td>\n",
       "      <td>2</td>\n",
       "      <td>150</td>\n",
       "      <td>3</td>\n",
       "      <td>4</td>\n",
       "      <td>210</td>\n",
       "      <td>200</td>\n",
       "      <td>1</td>\n",
       "    </tr>\n",
       "    <tr>\n",
       "      <th>mean</th>\n",
       "      <td>157.341232</td>\n",
       "      <td>NaN</td>\n",
       "      <td>NaN</td>\n",
       "      <td>NaN</td>\n",
       "      <td>NaN</td>\n",
       "      <td>NaN</td>\n",
       "      <td>NaN</td>\n",
       "      <td>NaN</td>\n",
       "      <td>NaN</td>\n",
       "      <td>NaN</td>\n",
       "      <td>...</td>\n",
       "      <td>NaN</td>\n",
       "      <td>NaN</td>\n",
       "      <td>NaN</td>\n",
       "      <td>NaN</td>\n",
       "      <td>NaN</td>\n",
       "      <td>NaN</td>\n",
       "      <td>NaN</td>\n",
       "      <td>NaN</td>\n",
       "      <td>NaN</td>\n",
       "      <td>NaN</td>\n",
       "    </tr>\n",
       "    <tr>\n",
       "      <th>std</th>\n",
       "      <td>122.921102</td>\n",
       "      <td>NaN</td>\n",
       "      <td>NaN</td>\n",
       "      <td>NaN</td>\n",
       "      <td>NaN</td>\n",
       "      <td>NaN</td>\n",
       "      <td>NaN</td>\n",
       "      <td>NaN</td>\n",
       "      <td>NaN</td>\n",
       "      <td>NaN</td>\n",
       "      <td>...</td>\n",
       "      <td>NaN</td>\n",
       "      <td>NaN</td>\n",
       "      <td>NaN</td>\n",
       "      <td>NaN</td>\n",
       "      <td>NaN</td>\n",
       "      <td>NaN</td>\n",
       "      <td>NaN</td>\n",
       "      <td>NaN</td>\n",
       "      <td>NaN</td>\n",
       "      <td>NaN</td>\n",
       "    </tr>\n",
       "    <tr>\n",
       "      <th>min</th>\n",
       "      <td>1.000000</td>\n",
       "      <td>NaN</td>\n",
       "      <td>NaN</td>\n",
       "      <td>NaN</td>\n",
       "      <td>NaN</td>\n",
       "      <td>NaN</td>\n",
       "      <td>NaN</td>\n",
       "      <td>NaN</td>\n",
       "      <td>NaN</td>\n",
       "      <td>NaN</td>\n",
       "      <td>...</td>\n",
       "      <td>NaN</td>\n",
       "      <td>NaN</td>\n",
       "      <td>NaN</td>\n",
       "      <td>NaN</td>\n",
       "      <td>NaN</td>\n",
       "      <td>NaN</td>\n",
       "      <td>NaN</td>\n",
       "      <td>NaN</td>\n",
       "      <td>NaN</td>\n",
       "      <td>NaN</td>\n",
       "    </tr>\n",
       "    <tr>\n",
       "      <th>25%</th>\n",
       "      <td>76.000000</td>\n",
       "      <td>NaN</td>\n",
       "      <td>NaN</td>\n",
       "      <td>NaN</td>\n",
       "      <td>NaN</td>\n",
       "      <td>NaN</td>\n",
       "      <td>NaN</td>\n",
       "      <td>NaN</td>\n",
       "      <td>NaN</td>\n",
       "      <td>NaN</td>\n",
       "      <td>...</td>\n",
       "      <td>NaN</td>\n",
       "      <td>NaN</td>\n",
       "      <td>NaN</td>\n",
       "      <td>NaN</td>\n",
       "      <td>NaN</td>\n",
       "      <td>NaN</td>\n",
       "      <td>NaN</td>\n",
       "      <td>NaN</td>\n",
       "      <td>NaN</td>\n",
       "      <td>NaN</td>\n",
       "    </tr>\n",
       "    <tr>\n",
       "      <th>50%</th>\n",
       "      <td>154.000000</td>\n",
       "      <td>NaN</td>\n",
       "      <td>NaN</td>\n",
       "      <td>NaN</td>\n",
       "      <td>NaN</td>\n",
       "      <td>NaN</td>\n",
       "      <td>NaN</td>\n",
       "      <td>NaN</td>\n",
       "      <td>NaN</td>\n",
       "      <td>NaN</td>\n",
       "      <td>...</td>\n",
       "      <td>NaN</td>\n",
       "      <td>NaN</td>\n",
       "      <td>NaN</td>\n",
       "      <td>NaN</td>\n",
       "      <td>NaN</td>\n",
       "      <td>NaN</td>\n",
       "      <td>NaN</td>\n",
       "      <td>NaN</td>\n",
       "      <td>NaN</td>\n",
       "      <td>NaN</td>\n",
       "    </tr>\n",
       "    <tr>\n",
       "      <th>75%</th>\n",
       "      <td>231.000000</td>\n",
       "      <td>NaN</td>\n",
       "      <td>NaN</td>\n",
       "      <td>NaN</td>\n",
       "      <td>NaN</td>\n",
       "      <td>NaN</td>\n",
       "      <td>NaN</td>\n",
       "      <td>NaN</td>\n",
       "      <td>NaN</td>\n",
       "      <td>NaN</td>\n",
       "      <td>...</td>\n",
       "      <td>NaN</td>\n",
       "      <td>NaN</td>\n",
       "      <td>NaN</td>\n",
       "      <td>NaN</td>\n",
       "      <td>NaN</td>\n",
       "      <td>NaN</td>\n",
       "      <td>NaN</td>\n",
       "      <td>NaN</td>\n",
       "      <td>NaN</td>\n",
       "      <td>NaN</td>\n",
       "    </tr>\n",
       "    <tr>\n",
       "      <th>max</th>\n",
       "      <td>1401.000000</td>\n",
       "      <td>NaN</td>\n",
       "      <td>NaN</td>\n",
       "      <td>NaN</td>\n",
       "      <td>NaN</td>\n",
       "      <td>NaN</td>\n",
       "      <td>NaN</td>\n",
       "      <td>NaN</td>\n",
       "      <td>NaN</td>\n",
       "      <td>NaN</td>\n",
       "      <td>...</td>\n",
       "      <td>NaN</td>\n",
       "      <td>NaN</td>\n",
       "      <td>NaN</td>\n",
       "      <td>NaN</td>\n",
       "      <td>NaN</td>\n",
       "      <td>NaN</td>\n",
       "      <td>NaN</td>\n",
       "      <td>NaN</td>\n",
       "      <td>NaN</td>\n",
       "      <td>NaN</td>\n",
       "    </tr>\n",
       "  </tbody>\n",
       "</table>\n",
       "<p>11 rows × 81 columns</p>\n",
       "</div>"
      ],
      "text/plain": [
       "              index        NCTId  TrialAcronym  \\\n",
       "count    211.000000          211            64   \n",
       "unique          NaN          211            63   \n",
       "top             NaN  NCT00252603  Omega Heroes   \n",
       "freq            NaN            1             2   \n",
       "mean     157.341232          NaN           NaN   \n",
       "std      122.921102          NaN           NaN   \n",
       "min        1.000000          NaN           NaN   \n",
       "25%       76.000000          NaN           NaN   \n",
       "50%      154.000000          NaN           NaN   \n",
       "75%      231.000000          NaN           NaN   \n",
       "max     1401.000000          NaN           NaN   \n",
       "\n",
       "                                      ArmGroupDescription  \\\n",
       "count                                                 171   \n",
       "unique                                                168   \n",
       "top     Glycyl-L-2-Methylpropyl-L-Glutamic Acid|Strawb...   \n",
       "freq                                                    2   \n",
       "mean                                                  NaN   \n",
       "std                                                   NaN   \n",
       "min                                                   NaN   \n",
       "25%                                                   NaN   \n",
       "50%                                                   NaN   \n",
       "75%                                                   NaN   \n",
       "max                                                   NaN   \n",
       "\n",
       "              ArmGroupInterventionName DrugsTested OtherDrugNames  \\\n",
       "count                              201         211            209   \n",
       "unique                             183         106             92   \n",
       "top     Drug: Bumetanide|Drug: Placebo    Oxytocin           None   \n",
       "freq                                 3          19             21   \n",
       "mean                               NaN         NaN            NaN   \n",
       "std                                NaN         NaN            NaN   \n",
       "min                                NaN         NaN            NaN   \n",
       "25%                                NaN         NaN            NaN   \n",
       "50%                                NaN         NaN            NaN   \n",
       "75%                                NaN         NaN            NaN   \n",
       "max                                NaN         NaN            NaN   \n",
       "\n",
       "                                            DrugMechanism  \\\n",
       "count                                                  60   \n",
       "unique                                                 17   \n",
       "top     This second-generation antipsychotic drug anta...   \n",
       "freq                                                    8   \n",
       "mean                                                  NaN   \n",
       "std                                                   NaN   \n",
       "min                                                   NaN   \n",
       "25%                                                   NaN   \n",
       "50%                                                   NaN   \n",
       "75%                                                   NaN   \n",
       "max                                                   NaN   \n",
       "\n",
       "                                                  Sources PreviouslyApproved  \\\n",
       "count                                                  93                 99   \n",
       "unique                                                 21                  5   \n",
       "top     https://www.spectrumnews.org/opinion/how-to-im...                Yes   \n",
       "freq                                                   19                 72   \n",
       "mean                                                  NaN                NaN   \n",
       "std                                                   NaN                NaN   \n",
       "min                                                   NaN                NaN   \n",
       "25%                                                   NaN                NaN   \n",
       "50%                                                   NaN                NaN   \n",
       "75%                                                   NaN                NaN   \n",
       "max                                                   NaN                NaN   \n",
       "\n",
       "        ... StartDateType StatusVerifiedDate StdAge StudyFirstPostDate  \\\n",
       "count   ...            89                210    210                210   \n",
       "unique  ...             2                 97      5                198   \n",
       "top     ...        Actual             21-Sep  Child          16-Sep-15   \n",
       "freq    ...            75                 10    131                  2   \n",
       "mean    ...           NaN                NaN    NaN                NaN   \n",
       "std     ...           NaN                NaN    NaN                NaN   \n",
       "min     ...           NaN                NaN    NaN                NaN   \n",
       "25%     ...           NaN                NaN    NaN                NaN   \n",
       "50%     ...           NaN                NaN    NaN                NaN   \n",
       "75%     ...           NaN                NaN    NaN                NaN   \n",
       "max     ...           NaN                NaN    NaN                NaN   \n",
       "\n",
       "       StudyFirstPostDateType StudyFirstSubmitDate StudyFirstSubmitQCDate  \\\n",
       "count                     210                  209                    210   \n",
       "unique                      2                  193                    197   \n",
       "top                  Estimate            12-Sep-05              12-Sep-05   \n",
       "freq                      150                    3                      4   \n",
       "mean                      NaN                  NaN                    NaN   \n",
       "std                       NaN                  NaN                    NaN   \n",
       "min                       NaN                  NaN                    NaN   \n",
       "25%                       NaN                  NaN                    NaN   \n",
       "50%                       NaN                  NaN                    NaN   \n",
       "75%                       NaN                  NaN                    NaN   \n",
       "max                       NaN                  NaN                    NaN   \n",
       "\n",
       "             StudyType VersionHolder  \\\n",
       "count              210           210   \n",
       "unique               1             2   \n",
       "top     Interventional     15-Oct-21   \n",
       "freq               210           200   \n",
       "mean               NaN           NaN   \n",
       "std                NaN           NaN   \n",
       "min                NaN           NaN   \n",
       "25%                NaN           NaN   \n",
       "50%                NaN           NaN   \n",
       "75%                NaN           NaN   \n",
       "max                NaN           NaN   \n",
       "\n",
       "                                               WhyStopped  \n",
       "count                                                  19  \n",
       "unique                                                 19  \n",
       "top     The study was terminated due to enrollment cha...  \n",
       "freq                                                    1  \n",
       "mean                                                  NaN  \n",
       "std                                                   NaN  \n",
       "min                                                   NaN  \n",
       "25%                                                   NaN  \n",
       "50%                                                   NaN  \n",
       "75%                                                   NaN  \n",
       "max                                                   NaN  \n",
       "\n",
       "[11 rows x 81 columns]"
      ]
     },
     "execution_count": 5,
     "metadata": {},
     "output_type": "execute_result"
    }
   ],
   "source": [
    "df.describe(include = 'all')"
   ]
  },
  {
   "cell_type": "markdown",
   "id": "8917736c",
   "metadata": {},
   "source": [
    "### Questions to Answer"
   ]
  },
  {
   "cell_type": "markdown",
   "id": "077f6111",
   "metadata": {},
   "source": [
    "1) How many trials were terminated, and for what reasons?\n",
    "\n",
    "2) What is the most common drug tested, and the second, and the third most common?\n",
    "\n",
    "3) How many studies have actually posted results?\n",
    "\n",
    "4) What fraction of studies that have been completed have posted results?\n",
    "\n",
    "5) What are the most common conditions, and in what fractions?\n",
    "\n",
    "6) What fraction of drugs in clinical trials have been approved for another condition?\n",
    "\n",
    "7) What are the commonly occuring 'combined modality' types? Comment specifically on those trials.\n",
    "\n",
    "8) What is the earliest trial? The latest trial?\n",
    "\n",
    "9) Put together descriptive statistics on the 'Lead Author Country'.\n",
    "\n",
    "10) Who sponsors most studies? Industry or academia?\n",
    "\n",
    "11) What are the ranges of minimum and maximum ages?"
   ]
  },
  {
   "cell_type": "markdown",
   "id": "cfc402b4-76fa-403b-a736-610344547aae",
   "metadata": {},
   "source": [
    "## #1"
   ]
  },
  {
   "cell_type": "code",
   "execution_count": 6,
   "id": "2874503a-bd1f-49fe-8f96-c0c429819ad4",
   "metadata": {},
   "outputs": [
    {
     "data": {
      "text/plain": [
       "211"
      ]
     },
     "execution_count": 6,
     "metadata": {},
     "output_type": "execute_result"
    }
   ],
   "source": [
    "len(df)"
   ]
  },
  {
   "cell_type": "code",
   "execution_count": 7,
   "id": "b3d6b7e8",
   "metadata": {},
   "outputs": [],
   "source": [
    "stopped_trials = df['WhyStopped'].value_counts()"
   ]
  },
  {
   "cell_type": "code",
   "execution_count": 8,
   "id": "eac94cfc-a8ae-4fbb-9460-0db6092fcd20",
   "metadata": {},
   "outputs": [
    {
     "data": {
      "text/plain": [
       "19"
      ]
     },
     "execution_count": 8,
     "metadata": {},
     "output_type": "execute_result"
    }
   ],
   "source": [
    "len(stopped_trials)"
   ]
  },
  {
   "cell_type": "code",
   "execution_count": 10,
   "id": "4817e1d8-3e38-4f45-9573-dd04d8c3bd44",
   "metadata": {},
   "outputs": [
    {
     "data": {
      "text/plain": [
       "0.09004739336492891"
      ]
     },
     "execution_count": 10,
     "metadata": {},
     "output_type": "execute_result"
    }
   ],
   "source": [
    "len(stopped_trials)/len(df)"
   ]
  },
  {
   "cell_type": "code",
   "execution_count": 11,
   "id": "5a8ba4df-066f-4116-8ab3-04e68274c72f",
   "metadata": {},
   "outputs": [
    {
     "data": {
      "text/plain": [
       "The study was terminated due to enrollment challenges and the COVID-19 pandemic.                                                                                   1\n",
       "Study not started                                                                                                                                                  1\n",
       "Withdrawn for problem of logistics with the associated laboratories                                                                                                1\n",
       "too few subjects enrolled                                                                                                                                          1\n",
       "The 24-week analysis indicated no clinical or statistical benefit for the primary endpoint for the overall study population. No new safety concerns identified.    1\n",
       "pending further evaluation                                                                                                                                         1\n",
       "Most of our patients had no willingness to participate in the survey                                                                                               1\n",
       "Due to a change in the research priorities of the principal investigator in combination with low subject interest.                                                 1\n",
       "Failure to recruit                                                                                                                                                 1\n",
       "Low recruitment                                                                                                                                                    1\n",
       "The study stopped recruitment of new participants due to COVID. A substudy was developed with adaptations to the main design.                                      1\n",
       "The study did not demonstrate evidence of efficacy on the primary or secondary efficacy variables                                                                  1\n",
       "Well tolerated but failed to demonstrate significant activity. So it did not meet its primary endpoint or key secondary endpoints.                                 1\n",
       "No eligible patients were enrolled                                                                                                                                 1\n",
       "Pharmaceutical and financial difficulties                                                                                                                          1\n",
       "the recently feasibility study shows that the number of patients is insufficient in the centers                                                                    1\n",
       "A futility analysis assessed that the study is highly unlikely to meet the pre-defined primary objective of the study. No new safety concerns were identified.     1\n",
       "Study was not initiated it was decided to cancel this study                                                                                                        1\n",
       "This study was withdrawn due to competing research interests and slow recruitment.                                                                                 1\n",
       "Name: WhyStopped, dtype: int64"
      ]
     },
     "execution_count": 11,
     "metadata": {},
     "output_type": "execute_result"
    }
   ],
   "source": [
    "stopped_trials"
   ]
  },
  {
   "cell_type": "markdown",
   "id": "eed2c2f6-2f04-4830-93d6-2dea763712d6",
   "metadata": {},
   "source": [
    "## #2"
   ]
  },
  {
   "cell_type": "code",
   "execution_count": 12,
   "id": "61934419-421d-45dd-add0-b7e8d85e7fac",
   "metadata": {},
   "outputs": [
    {
     "data": {
      "text/plain": [
       "Oxytocin                              19\n",
       "Aripiprazole                           8\n",
       "Risperidone                            7\n",
       "Everolimus                             7\n",
       "Cannabidiol                            7\n",
       "                                      ..\n",
       "Clonidine                              1\n",
       "Doxycycline                            1\n",
       "Acamprosate|Lovastatin|Minocycline     1\n",
       "Lithium Carbonate                      1\n",
       "RO7017773                              1\n",
       "Name: DrugsTested, Length: 106, dtype: int64"
      ]
     },
     "execution_count": 12,
     "metadata": {},
     "output_type": "execute_result"
    }
   ],
   "source": [
    "druglist = df['DrugsTested'].value_counts()\n",
    "druglist"
   ]
  },
  {
   "cell_type": "markdown",
   "id": "1828b207-641c-4c81-a7a1-b0a8c7f4f711",
   "metadata": {},
   "source": [
    "Oxytocin is the most frequently tested drug, with 22 trials. Aripiprazole has 16 trials, and cannabidiol is in third with 14 trials. Fascinating!"
   ]
  },
  {
   "cell_type": "markdown",
   "id": "841c85d2-258d-4a59-891f-bd73ae88048a",
   "metadata": {},
   "source": [
    "## #3"
   ]
  },
  {
   "cell_type": "code",
   "execution_count": 13,
   "id": "787f92b1-d95f-4845-86b6-24b1864d7017",
   "metadata": {},
   "outputs": [],
   "source": [
    "postedresults = df['ResultsFirstPostDateType'].value_counts()"
   ]
  },
  {
   "cell_type": "code",
   "execution_count": 14,
   "id": "59fee243-eee3-436b-b9bb-b8697df9fd48",
   "metadata": {},
   "outputs": [
    {
     "data": {
      "text/plain": [
       "Actual                     41\n",
       "Estimate                   26\n",
       "U.S. FDA Grant/Contract     1\n",
       "Name: ResultsFirstPostDateType, dtype: int64"
      ]
     },
     "execution_count": 14,
     "metadata": {},
     "output_type": "execute_result"
    }
   ],
   "source": [
    "postedresults"
   ]
  },
  {
   "cell_type": "code",
   "execution_count": 15,
   "id": "4d1e08de-a850-4ab5-aaf1-a9f532fa31c5",
   "metadata": {},
   "outputs": [
    {
     "data": {
      "text/plain": [
       "0.1943127962085308"
      ]
     },
     "execution_count": 15,
     "metadata": {},
     "output_type": "execute_result"
    }
   ],
   "source": [
    "41 / len(df)"
   ]
  },
  {
   "cell_type": "markdown",
   "id": "1a0162d3-5b13-444d-acd9-49df58a330d3",
   "metadata": {},
   "source": [
    "## #4"
   ]
  },
  {
   "cell_type": "code",
   "execution_count": 16,
   "id": "d291d066-3f51-4eb5-a5e0-ebaa278af389",
   "metadata": {},
   "outputs": [],
   "source": [
    "conditions = df['Condition'].value_counts()"
   ]
  },
  {
   "cell_type": "code",
   "execution_count": 17,
   "id": "f914e9ac-8cc3-448b-ab31-c33cae66b54b",
   "metadata": {},
   "outputs": [
    {
     "data": {
      "text/plain": [
       "Autism                                         137\n",
       "Fragile X syndrome                              28\n",
       "Tuberous sclerosis complex                      17\n",
       "Rett syndrome                                   14\n",
       "Angelman syndrome                                4\n",
       "Autism-related irritability                      2\n",
       "Phelan-McDermid syndrome                         2\n",
       "ADHD with autism                                 2\n",
       "Antipsychotic-usage weight gain                  2\n",
       "Autism-related anxiety                           1\n",
       "Tuberous sclerosis complex-related seizures      1\n",
       "Williams syndrome                                1\n",
       "Name: Condition, dtype: int64"
      ]
     },
     "execution_count": 17,
     "metadata": {},
     "output_type": "execute_result"
    }
   ],
   "source": [
    "conditions"
   ]
  },
  {
   "cell_type": "code",
   "execution_count": 20,
   "id": "d0b2658d-611a-4d70-be1d-0bff0a4706de",
   "metadata": {},
   "outputs": [
    {
     "data": {
      "text/plain": [
       "0.08056872037914692"
      ]
     },
     "execution_count": 20,
     "metadata": {},
     "output_type": "execute_result"
    }
   ],
   "source": [
    "17/len(df)"
   ]
  },
  {
   "cell_type": "markdown",
   "id": "2362292c-3967-45f9-a867-d3ca422e4e85",
   "metadata": {},
   "source": [
    "## Lead Sponsor analysis"
   ]
  },
  {
   "cell_type": "code",
   "execution_count": 21,
   "id": "0a34c658-1777-4937-ac32-4c5f87d43059",
   "metadata": {},
   "outputs": [],
   "source": [
    "leadsponsors = df['LeadSponsorClass'].value_counts()"
   ]
  },
  {
   "cell_type": "code",
   "execution_count": 22,
   "id": "6d9085e0-a467-4f7d-9092-04bfd4bf89df",
   "metadata": {},
   "outputs": [
    {
     "data": {
      "text/plain": [
       "Academia                         128\n",
       "Industry                          68\n",
       "National Institutes of Health      7\n",
       "Other                              5\n",
       "Individual                         2\n",
       "Government                         1\n",
       "Name: LeadSponsorClass, dtype: int64"
      ]
     },
     "execution_count": 22,
     "metadata": {},
     "output_type": "execute_result"
    }
   ],
   "source": [
    "leadsponsors"
   ]
  },
  {
   "cell_type": "code",
   "execution_count": 23,
   "id": "ca1d0ffd-c915-4502-9b52-281a2b7bec35",
   "metadata": {},
   "outputs": [
    {
     "data": {
      "text/plain": [
       "0.6066350710900474"
      ]
     },
     "execution_count": 23,
     "metadata": {},
     "output_type": "execute_result"
    }
   ],
   "source": [
    "128 / len(df)"
   ]
  },
  {
   "cell_type": "code",
   "execution_count": 42,
   "id": "895ac5b1-2ff5-464a-8a4b-eb322edd73e0",
   "metadata": {},
   "outputs": [],
   "source": [
    "countries = df['LeadSponsorCountry'].value_counts()"
   ]
  },
  {
   "cell_type": "code",
   "execution_count": 43,
   "id": "bcaa0bcd-ecdf-44ec-ab9d-2017ad60af51",
   "metadata": {},
   "outputs": [
    {
     "data": {
      "text/plain": [
       "United States     207\n",
       "Canada             18\n",
       "Switzerland        16\n",
       "United Kingdom     12\n",
       "Japan              12\n",
       "France             12\n",
       "Israel              8\n",
       "Australia           5\n",
       "China               4\n",
       "Spain               4\n",
       "Egypt               3\n",
       "Belgium             3\n",
       "Italy               1\n",
       "South Korea         1\n",
       "Brazil              1\n",
       "New Zealand         1\n",
       "Poland              1\n",
       "Netherlands         1\n",
       "Taiwan              1\n",
       "Pakistan            1\n",
       "Name: LeadSponsorCountry, dtype: int64"
      ]
     },
     "execution_count": 43,
     "metadata": {},
     "output_type": "execute_result"
    }
   ],
   "source": [
    "countries"
   ]
  },
  {
   "cell_type": "code",
   "execution_count": null,
   "id": "f238463d-65b7-4959-878a-48cc578ad213",
   "metadata": {},
   "outputs": [],
   "source": []
  }
 ],
 "metadata": {
  "kernelspec": {
   "display_name": "Python 3",
   "language": "python",
   "name": "python3"
  },
  "language_info": {
   "codemirror_mode": {
    "name": "ipython",
    "version": 3
   },
   "file_extension": ".py",
   "mimetype": "text/x-python",
   "name": "python",
   "nbconvert_exporter": "python",
   "pygments_lexer": "ipython3",
   "version": "3.8.8"
  }
 },
 "nbformat": 4,
 "nbformat_minor": 5
}
