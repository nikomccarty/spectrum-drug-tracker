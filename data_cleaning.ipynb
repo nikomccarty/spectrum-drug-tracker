{
 "cells": [
  {
   "cell_type": "code",
   "execution_count": 1,
   "metadata": {},
   "outputs": [],
   "source": [
    "import numpy as np\n",
    "import pandas as pd"
   ]
  },
  {
   "cell_type": "markdown",
   "metadata": {},
   "source": [
    "\n",
    "FILTER CRITERIA:\n",
    "\n",
    "-- Phase 2, 3, 4\n",
    "\n",
    "-- Only include single-arm trial if there’s a suitable outcome measure (e.g. fMRI)\n",
    "\n",
    "-- Include combined modality trials (e.g. NeuroNext, oxytocin + behavioral intervention)\n",
    "\n",
    "-- Sort DataFrame by drugs (after I tease out that column / make a Placebo column) and compare to existing drug database\n"
   ]
  },
  {
   "cell_type": "code",
   "execution_count": 4,
   "metadata": {},
   "outputs": [],
   "source": [
    "df = pd.read_csv('./datasets/20211014_drug_trials_unfiltered.csv')"
   ]
  },
  {
   "cell_type": "code",
   "execution_count": 5,
   "metadata": {},
   "outputs": [
    {
     "data": {
      "text/plain": [
       "2012"
      ]
     },
     "execution_count": 5,
     "metadata": {},
     "output_type": "execute_result"
    }
   ],
   "source": [
    "len(df)"
   ]
  },
  {
   "cell_type": "code",
   "execution_count": 6,
   "metadata": {},
   "outputs": [
    {
     "name": "stdout",
     "output_type": "stream",
     "text": [
      "<class 'pandas.core.frame.DataFrame'>\n",
      "RangeIndex: 2012 entries, 0 to 2011\n",
      "Data columns (total 61 columns):\n",
      " #   Column                                   Non-Null Count  Dtype  \n",
      "---  ------                                   --------------  -----  \n",
      " 0   Unnamed: 0                               2012 non-null   int64  \n",
      " 1   Rank                                     2012 non-null   int64  \n",
      " 2   Acronym                                  596 non-null    object \n",
      " 3   ArmGroupDescription                      1612 non-null   object \n",
      " 4   ArmGroupInterventionName                 1610 non-null   object \n",
      " 5   ArmGroupLabel                            1769 non-null   object \n",
      " 6   ArmGroupType                             1441 non-null   object \n",
      " 7   BriefSummary                             2012 non-null   object \n",
      " 8   BriefTitle                               2012 non-null   object \n",
      " 9   CentralContactName                       640 non-null    object \n",
      " 10  CompletionDate                           1946 non-null   object \n",
      " 11  CompletionDateType                       1902 non-null   object \n",
      " 12  Condition                                2012 non-null   object \n",
      " 13  ConditionMeshTerm                        1922 non-null   object \n",
      " 14  DesignAllocation                         1182 non-null   object \n",
      " 15  DesignInterventionModel                  1520 non-null   object \n",
      " 16  DesignInterventionModelDescription       267 non-null    object \n",
      " 17  DesignMasking                            1521 non-null   object \n",
      " 18  DesignMaskingDescription                 157 non-null    object \n",
      " 19  DesignObservationalModel                 446 non-null    object \n",
      " 20  DesignPrimaryPurpose                     1515 non-null   object \n",
      " 21  DesignWhoMasked                          761 non-null    object \n",
      " 22  Rank.1                                   2012 non-null   int64  \n",
      " 23  DetailedDescription                      1487 non-null   object \n",
      " 24  DispFirstSubmitDate                      35 non-null     object \n",
      " 25  EligibilityCriteria                      2012 non-null   object \n",
      " 26  EnrollmentCount                          2001 non-null   float64\n",
      " 27  EnrollmentType                           1948 non-null   object \n",
      " 28  Gender                                   2011 non-null   object \n",
      " 29  InterventionArmGroupLabel                1611 non-null   object \n",
      " 30  InterventionName                         1741 non-null   object \n",
      " 31  IsFDARegulatedDevice                     938 non-null    object \n",
      " 32  LastUpdateSubmitDate                     2012 non-null   object \n",
      " 33  LeadSponsorClass                         2012 non-null   object \n",
      " 34  LeadSponsorName                          2012 non-null   object \n",
      " 35  LocationCity                             1867 non-null   object \n",
      " 36  LocationContactEMail                     496 non-null    object \n",
      " 37  LocationContactName                      584 non-null    object \n",
      " 38  MaximumAge                               1612 non-null   object \n",
      " 39  MinimumAge                               1829 non-null   object \n",
      " 40  StdAge                                   2012 non-null   object \n",
      " 41  NCTId                                    2012 non-null   object \n",
      " 42  OfficialTitle                            1972 non-null   object \n",
      " 43  Rank.2                                   2012 non-null   int64  \n",
      " 44  OrgClass                                 2012 non-null   object \n",
      " 45  OrgFullName                              2012 non-null   object \n",
      " 46  OrgStudyId                               2012 non-null   object \n",
      " 47  OutcomeMeasureDescription                248 non-null    object \n",
      " 48  OutcomeMeasureTitle                      265 non-null    object \n",
      " 49  OutcomeMeasureType                       265 non-null    object \n",
      " 50  Phase                                    1533 non-null   object \n",
      " 51  ReferenceCitation                        746 non-null    object \n",
      " 52  ReferencePMID                            736 non-null    object \n",
      " 53  ResponsiblePartyInvestigatorAffiliation  911 non-null    object \n",
      " 54  ResponsiblePartyInvestigatorFullName     911 non-null    object \n",
      " 55  ResponsiblePartyInvestigatorTitle        911 non-null    object \n",
      " 56  ResponsiblePartyOldOrganization          78 non-null     object \n",
      " 57  ResponsiblePartyOldNameTitle             79 non-null     object \n",
      " 58  ResultsFirstSubmitDate                   265 non-null    object \n",
      " 59  StudyPopulation                          441 non-null    object \n",
      " 60  StudyType                                2012 non-null   object \n",
      "dtypes: float64(1), int64(4), object(56)\n",
      "memory usage: 959.0+ KB\n"
     ]
    }
   ],
   "source": [
    "df.info()"
   ]
  },
  {
   "cell_type": "code",
   "execution_count": null,
   "metadata": {},
   "outputs": [],
   "source": []
  }
 ],
 "metadata": {
  "interpreter": {
   "hash": "1f5e17c7c2cc0290fd95add71a2dc4a9e4a8bae7ef431295bcf9b21f32577e6a"
  },
  "kernelspec": {
   "display_name": "Python 3.9.7 64-bit",
   "name": "python3"
  },
  "language_info": {
   "codemirror_mode": {
    "name": "ipython",
    "version": 3
   },
   "file_extension": ".py",
   "mimetype": "text/x-python",
   "name": "python",
   "nbconvert_exporter": "python",
   "pygments_lexer": "ipython3",
   "version": "3.9.7"
  },
  "orig_nbformat": 4
 },
 "nbformat": 4,
 "nbformat_minor": 2
}
