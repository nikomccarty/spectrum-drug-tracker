{
 "cells": [
  {
   "cell_type": "code",
   "execution_count": 2,
   "metadata": {},
   "outputs": [],
   "source": [
    "import numpy as np\n",
    "import pandas as pd"
   ]
  },
  {
   "cell_type": "markdown",
   "metadata": {},
   "source": [
    "\n",
    "FILTER CRITERIA:\n",
    "\n",
    "-- Phase 2, 3, 4\n",
    "\n",
    "-- Only include single-arm trial if there’s a suitable outcome measure (e.g. fMRI)\n",
    "\n",
    "-- Include combined modality trials (e.g. NeuroNext, oxytocin + behavioral intervention)\n",
    "\n",
    "-- Sort DataFrame by drugs (after I tease out that column / make a Placebo column) and compare to existing drug database\n"
   ]
  },
  {
   "cell_type": "code",
   "execution_count": 70,
   "metadata": {},
   "outputs": [],
   "source": [
    "df = pd.read_csv('./datasets/20211015_drug_trials_unfiltered.csv')"
   ]
  },
  {
   "cell_type": "code",
   "execution_count": 71,
   "metadata": {},
   "outputs": [
    {
     "data": {
      "text/plain": [
       "2012"
      ]
     },
     "execution_count": 71,
     "metadata": {},
     "output_type": "execute_result"
    }
   ],
   "source": [
    "len(df)"
   ]
  },
  {
   "cell_type": "code",
   "execution_count": 72,
   "metadata": {},
   "outputs": [
    {
     "name": "stdout",
     "output_type": "stream",
     "text": [
      "<class 'pandas.core.frame.DataFrame'>\n",
      "RangeIndex: 2012 entries, 0 to 2011\n",
      "Columns: 159 entries, Unnamed: 0 to WhyStopped\n",
      "dtypes: float64(3), int64(10), object(146)\n",
      "memory usage: 2.4+ MB\n"
     ]
    }
   ],
   "source": [
    "df.info()"
   ]
  },
  {
   "cell_type": "code",
   "execution_count": 73,
   "metadata": {},
   "outputs": [
    {
     "data": {
      "text/html": [
       "<div>\n",
       "<style scoped>\n",
       "    .dataframe tbody tr th:only-of-type {\n",
       "        vertical-align: middle;\n",
       "    }\n",
       "\n",
       "    .dataframe tbody tr th {\n",
       "        vertical-align: top;\n",
       "    }\n",
       "\n",
       "    .dataframe thead th {\n",
       "        text-align: right;\n",
       "    }\n",
       "</style>\n",
       "<table border=\"1\" class=\"dataframe\">\n",
       "  <thead>\n",
       "    <tr style=\"text-align: right;\">\n",
       "      <th></th>\n",
       "      <th>Unnamed: 0</th>\n",
       "      <th>index</th>\n",
       "      <th>Rank</th>\n",
       "      <th>Acronym</th>\n",
       "      <th>ArmGroupDescription</th>\n",
       "      <th>ArmGroupInterventionName</th>\n",
       "      <th>ArmGroupLabel</th>\n",
       "      <th>ArmGroupType</th>\n",
       "      <th>BriefSummary</th>\n",
       "      <th>BriefTitle</th>\n",
       "      <th>...</th>\n",
       "      <th>Rank.7</th>\n",
       "      <th>StdAge</th>\n",
       "      <th>StudyFirstPostDate</th>\n",
       "      <th>StudyFirstPostDateType</th>\n",
       "      <th>StudyFirstSubmitDate</th>\n",
       "      <th>StudyFirstSubmitQCDate</th>\n",
       "      <th>StudyPopulation</th>\n",
       "      <th>StudyType</th>\n",
       "      <th>VersionHolder</th>\n",
       "      <th>WhyStopped</th>\n",
       "    </tr>\n",
       "  </thead>\n",
       "  <tbody>\n",
       "    <tr>\n",
       "      <th>0</th>\n",
       "      <td>0</td>\n",
       "      <td>0</td>\n",
       "      <td>1</td>\n",
       "      <td>Gene&amp;autism</td>\n",
       "      <td>Probands with Autism Spectrum Disorder, (N=700...</td>\n",
       "      <td>Genetic: DNA from subjects will be stored in t...</td>\n",
       "      <td>Autism Spectrum Disorder|Control without Autis...</td>\n",
       "      <td>NaN</td>\n",
       "      <td>The main objective of the study is to define, ...</td>\n",
       "      <td>Study of the Genetic Factors Involved in Autis...</td>\n",
       "      <td>...</td>\n",
       "      <td>1</td>\n",
       "      <td>Child|Adult|Older Adult</td>\n",
       "      <td>January 27, 2021</td>\n",
       "      <td>Actual</td>\n",
       "      <td>January 20, 2021</td>\n",
       "      <td>January 22, 2021</td>\n",
       "      <td>For all patients included in the study</td>\n",
       "      <td>Observational</td>\n",
       "      <td>October 15, 2021</td>\n",
       "      <td>NaN</td>\n",
       "    </tr>\n",
       "    <tr>\n",
       "      <th>1</th>\n",
       "      <td>1</td>\n",
       "      <td>1</td>\n",
       "      <td>2</td>\n",
       "      <td>NaN</td>\n",
       "      <td>For all patients included in the study, core a...</td>\n",
       "      <td>NaN</td>\n",
       "      <td>Autism Spectrum Disorder|controls</td>\n",
       "      <td>NaN</td>\n",
       "      <td>The main objective of the study is to define, ...</td>\n",
       "      <td>Susceptibility Genes in Autism Spectrum Disorders</td>\n",
       "      <td>...</td>\n",
       "      <td>2</td>\n",
       "      <td>Child|Adult|Older Adult</td>\n",
       "      <td>December 11, 2015</td>\n",
       "      <td>Estimate</td>\n",
       "      <td>September 26, 2013</td>\n",
       "      <td>December 9, 2015</td>\n",
       "      <td>For all patients included in the study, .</td>\n",
       "      <td>Observational</td>\n",
       "      <td>October 15, 2021</td>\n",
       "      <td>NaN</td>\n",
       "    </tr>\n",
       "    <tr>\n",
       "      <th>2</th>\n",
       "      <td>2</td>\n",
       "      <td>2</td>\n",
       "      <td>3</td>\n",
       "      <td>NaN</td>\n",
       "      <td>Children who meet criteria based on expert cli...</td>\n",
       "      <td>Device: Marcus Autism Center Investigational D...</td>\n",
       "      <td>Autism Spectrum Disorder|Non-autism Spectrum D...</td>\n",
       "      <td>NaN</td>\n",
       "      <td>This is an outpatient, multicenter, prospectiv...</td>\n",
       "      <td>A Multi-site Comparison of Social Visual Engag...</td>\n",
       "      <td>...</td>\n",
       "      <td>3</td>\n",
       "      <td>Child</td>\n",
       "      <td>March 19, 2018</td>\n",
       "      <td>Actual</td>\n",
       "      <td>March 12, 2018</td>\n",
       "      <td>March 16, 2018</td>\n",
       "      <td>Subjects will be recruited on the basis of con...</td>\n",
       "      <td>Observational</td>\n",
       "      <td>October 15, 2021</td>\n",
       "      <td>NaN</td>\n",
       "    </tr>\n",
       "    <tr>\n",
       "      <th>3</th>\n",
       "      <td>3</td>\n",
       "      <td>3</td>\n",
       "      <td>4</td>\n",
       "      <td>NaN</td>\n",
       "      <td>Children affected by autism spectrum disorders...</td>\n",
       "      <td>Behavioral: Children with autism spectrum diso...</td>\n",
       "      <td>Subjects with autism spectrum disorders|Health...</td>\n",
       "      <td>NaN</td>\n",
       "      <td>To date, it is well documented that the gut mi...</td>\n",
       "      <td>Dietetic Pattern in Children With Autism Spect...</td>\n",
       "      <td>...</td>\n",
       "      <td>4</td>\n",
       "      <td>Child</td>\n",
       "      <td>January 22, 2021</td>\n",
       "      <td>Actual</td>\n",
       "      <td>January 18, 2021</td>\n",
       "      <td>January 18, 2021</td>\n",
       "      <td>200 subjects of both sexes diagnosed with Auti...</td>\n",
       "      <td>Observational</td>\n",
       "      <td>October 15, 2021</td>\n",
       "      <td>NaN</td>\n",
       "    </tr>\n",
       "    <tr>\n",
       "      <th>4</th>\n",
       "      <td>4</td>\n",
       "      <td>4</td>\n",
       "      <td>5</td>\n",
       "      <td>Q10ASD</td>\n",
       "      <td>If body weight is up to 20 kg:||Vitamin E 30 m...</td>\n",
       "      <td>Dietary Supplement: Vitamin E|Dietary Suppleme...</td>\n",
       "      <td>PMS Placebo|ASD Placebo|PMS Active compound|AS...</td>\n",
       "      <td>Active Comparator|Active Comparator|Experiment...</td>\n",
       "      <td>This double-blind, cross-over, randomized, con...</td>\n",
       "      <td>Q10 Ubiquinol in Autism Spectrum Disorder and ...</td>\n",
       "      <td>...</td>\n",
       "      <td>5</td>\n",
       "      <td>Child|Adult</td>\n",
       "      <td>March 18, 2020</td>\n",
       "      <td>Actual</td>\n",
       "      <td>March 9, 2020</td>\n",
       "      <td>March 17, 2020</td>\n",
       "      <td>NaN</td>\n",
       "      <td>Interventional</td>\n",
       "      <td>October 15, 2021</td>\n",
       "      <td>NaN</td>\n",
       "    </tr>\n",
       "  </tbody>\n",
       "</table>\n",
       "<p>5 rows × 159 columns</p>\n",
       "</div>"
      ],
      "text/plain": [
       "   Unnamed: 0  index  Rank      Acronym  \\\n",
       "0           0      0     1  Gene&autism   \n",
       "1           1      1     2          NaN   \n",
       "2           2      2     3          NaN   \n",
       "3           3      3     4          NaN   \n",
       "4           4      4     5       Q10ASD   \n",
       "\n",
       "                                 ArmGroupDescription  \\\n",
       "0  Probands with Autism Spectrum Disorder, (N=700...   \n",
       "1  For all patients included in the study, core a...   \n",
       "2  Children who meet criteria based on expert cli...   \n",
       "3  Children affected by autism spectrum disorders...   \n",
       "4  If body weight is up to 20 kg:||Vitamin E 30 m...   \n",
       "\n",
       "                            ArmGroupInterventionName  \\\n",
       "0  Genetic: DNA from subjects will be stored in t...   \n",
       "1                                                NaN   \n",
       "2  Device: Marcus Autism Center Investigational D...   \n",
       "3  Behavioral: Children with autism spectrum diso...   \n",
       "4  Dietary Supplement: Vitamin E|Dietary Suppleme...   \n",
       "\n",
       "                                       ArmGroupLabel  \\\n",
       "0  Autism Spectrum Disorder|Control without Autis...   \n",
       "1                  Autism Spectrum Disorder|controls   \n",
       "2  Autism Spectrum Disorder|Non-autism Spectrum D...   \n",
       "3  Subjects with autism spectrum disorders|Health...   \n",
       "4  PMS Placebo|ASD Placebo|PMS Active compound|AS...   \n",
       "\n",
       "                                        ArmGroupType  \\\n",
       "0                                                NaN   \n",
       "1                                                NaN   \n",
       "2                                                NaN   \n",
       "3                                                NaN   \n",
       "4  Active Comparator|Active Comparator|Experiment...   \n",
       "\n",
       "                                        BriefSummary  \\\n",
       "0  The main objective of the study is to define, ...   \n",
       "1  The main objective of the study is to define, ...   \n",
       "2  This is an outpatient, multicenter, prospectiv...   \n",
       "3  To date, it is well documented that the gut mi...   \n",
       "4  This double-blind, cross-over, randomized, con...   \n",
       "\n",
       "                                          BriefTitle  ... Rank.7  \\\n",
       "0  Study of the Genetic Factors Involved in Autis...  ...      1   \n",
       "1  Susceptibility Genes in Autism Spectrum Disorders  ...      2   \n",
       "2  A Multi-site Comparison of Social Visual Engag...  ...      3   \n",
       "3  Dietetic Pattern in Children With Autism Spect...  ...      4   \n",
       "4  Q10 Ubiquinol in Autism Spectrum Disorder and ...  ...      5   \n",
       "\n",
       "                    StdAge StudyFirstPostDate StudyFirstPostDateType  \\\n",
       "0  Child|Adult|Older Adult   January 27, 2021                 Actual   \n",
       "1  Child|Adult|Older Adult  December 11, 2015               Estimate   \n",
       "2                    Child     March 19, 2018                 Actual   \n",
       "3                    Child   January 22, 2021                 Actual   \n",
       "4              Child|Adult     March 18, 2020                 Actual   \n",
       "\n",
       "  StudyFirstSubmitDate StudyFirstSubmitQCDate  \\\n",
       "0     January 20, 2021       January 22, 2021   \n",
       "1   September 26, 2013       December 9, 2015   \n",
       "2       March 12, 2018         March 16, 2018   \n",
       "3     January 18, 2021       January 18, 2021   \n",
       "4        March 9, 2020         March 17, 2020   \n",
       "\n",
       "                                     StudyPopulation       StudyType  \\\n",
       "0             For all patients included in the study   Observational   \n",
       "1          For all patients included in the study, .   Observational   \n",
       "2  Subjects will be recruited on the basis of con...   Observational   \n",
       "3  200 subjects of both sexes diagnosed with Auti...   Observational   \n",
       "4                                                NaN  Interventional   \n",
       "\n",
       "      VersionHolder WhyStopped  \n",
       "0  October 15, 2021        NaN  \n",
       "1  October 15, 2021        NaN  \n",
       "2  October 15, 2021        NaN  \n",
       "3  October 15, 2021        NaN  \n",
       "4  October 15, 2021        NaN  \n",
       "\n",
       "[5 rows x 159 columns]"
      ]
     },
     "execution_count": 73,
     "metadata": {},
     "output_type": "execute_result"
    }
   ],
   "source": [
    "df.head()"
   ]
  },
  {
   "cell_type": "code",
   "execution_count": 74,
   "metadata": {},
   "outputs": [],
   "source": [
    "df_phase = df[df['Phase'].notna()]"
   ]
  },
  {
   "cell_type": "code",
   "execution_count": 75,
   "metadata": {},
   "outputs": [
    {
     "data": {
      "text/plain": [
       "1533"
      ]
     },
     "execution_count": 75,
     "metadata": {},
     "output_type": "execute_result"
    }
   ],
   "source": [
    "len(df_phase)"
   ]
  },
  {
   "cell_type": "markdown",
   "metadata": {},
   "source": [
    "DROP TRIALS THAT LIST 'NOT APPLICABLE' FOR PHASE. SEE: https://clinicaltrials.gov/ct2/about-studies/glossary#:~:text=Not%20Applicable%20is%20used%20to,the%20safety%20of%20a%20drug."
   ]
  },
  {
   "cell_type": "code",
   "execution_count": 76,
   "metadata": {},
   "outputs": [
    {
     "data": {
      "text/plain": [
       "4     Not Applicable\n",
       "5            Phase 3\n",
       "8     Not Applicable\n",
       "9     Not Applicable\n",
       "13           Phase 2\n",
       "Name: Phase, dtype: object"
      ]
     },
     "execution_count": 76,
     "metadata": {},
     "output_type": "execute_result"
    }
   ],
   "source": [
    "df_phase['Phase'].head()"
   ]
  },
  {
   "cell_type": "code",
   "execution_count": 77,
   "metadata": {},
   "outputs": [],
   "source": [
    "df_phase = df_phase[~df_phase['Phase'].str.contains(\"Applicab\")]"
   ]
  },
  {
   "cell_type": "code",
   "execution_count": 78,
   "metadata": {},
   "outputs": [
    {
     "data": {
      "text/plain": [
       "715"
      ]
     },
     "execution_count": 78,
     "metadata": {},
     "output_type": "execute_result"
    }
   ],
   "source": [
    "len(df_phase)"
   ]
  },
  {
   "cell_type": "code",
   "execution_count": 79,
   "metadata": {},
   "outputs": [
    {
     "data": {
      "text/plain": [
       "5     Phase 3\n",
       "13    Phase 2\n",
       "22    Phase 1\n",
       "23    Phase 2\n",
       "28    Phase 2\n",
       "Name: Phase, dtype: object"
      ]
     },
     "execution_count": 79,
     "metadata": {},
     "output_type": "execute_result"
    }
   ],
   "source": [
    "df_phase['Phase'].head()"
   ]
  },
  {
   "cell_type": "markdown",
   "metadata": {},
   "source": [
    "DROP PHASE 1 TRIALS."
   ]
  },
  {
   "cell_type": "code",
   "execution_count": 80,
   "metadata": {},
   "outputs": [],
   "source": [
    "df_phase = df_phase[~df_phase['Phase'].str.contains(\"1\")]"
   ]
  },
  {
   "cell_type": "code",
   "execution_count": 81,
   "metadata": {},
   "outputs": [
    {
     "data": {
      "text/plain": [
       "519"
      ]
     },
     "execution_count": 81,
     "metadata": {},
     "output_type": "execute_result"
    }
   ],
   "source": [
    "len(df_phase)"
   ]
  },
  {
   "cell_type": "code",
   "execution_count": 82,
   "metadata": {},
   "outputs": [
    {
     "data": {
      "text/plain": [
       "5                                               Drug|Drug\n",
       "13                                         Drug|Drug|Drug\n",
       "23                                                  Other\n",
       "28                                                   Drug\n",
       "38                                             Drug|Other\n",
       "                              ...                        \n",
       "1996                                                 Drug\n",
       "2000             Drug|Drug|Drug|Drug|Drug|Other|Drug|Drug\n",
       "2002    Drug|Biological|Drug|Drug|Drug|Drug|Drug|Drug|...\n",
       "2007                                       Drug|Drug|Drug\n",
       "2010                                      Drug|Behavioral\n",
       "Name: InterventionType, Length: 519, dtype: object"
      ]
     },
     "execution_count": 82,
     "metadata": {},
     "output_type": "execute_result"
    }
   ],
   "source": [
    "df_phase['InterventionType']"
   ]
  },
  {
   "cell_type": "markdown",
   "metadata": {},
   "source": [
    "KEEP ONLY ROWS THAT CONTAIN 'DRUG' WITHIN INTERVENTION TYPE."
   ]
  },
  {
   "cell_type": "code",
   "execution_count": 83,
   "metadata": {},
   "outputs": [],
   "source": [
    "df_phase_drugs = df_phase[df_phase['InterventionType'].str.contains(\"Drug\")]"
   ]
  },
  {
   "cell_type": "code",
   "execution_count": 84,
   "metadata": {},
   "outputs": [
    {
     "data": {
      "text/plain": [
       "443"
      ]
     },
     "execution_count": 84,
     "metadata": {},
     "output_type": "execute_result"
    }
   ],
   "source": [
    "len(df_phase_drugs)"
   ]
  },
  {
   "cell_type": "markdown",
   "metadata": {},
   "source": [
    "Expand the ArmGroupInterventionName column, to view the various drugs tested. Then, EXPORT .CSV FILE, TEMPORARILY. MORE FILTERING MAY BE REQUIRED."
   ]
  },
  {
   "cell_type": "code",
   "execution_count": 85,
   "metadata": {},
   "outputs": [],
   "source": [
    "df_phase_drugs_unique = df_phase_drugs['ArmGroupInterventionName'].str.split('|', expand=True)"
   ]
  },
  {
   "cell_type": "code",
   "execution_count": 86,
   "metadata": {},
   "outputs": [],
   "source": [
    "df_phase_drugs_unique.to_csv('datasets/20211015_drug_trials_filtered_phase_drugs_only.csv')"
   ]
  },
  {
   "cell_type": "code",
   "execution_count": 89,
   "metadata": {},
   "outputs": [],
   "source": [
    "df_phase_drugs.to_csv('datasets/20211015_drug_trials_filtered_phase_drugs.csv')"
   ]
  },
  {
   "cell_type": "code",
   "execution_count": 90,
   "metadata": {},
   "outputs": [],
   "source": [
    "df_phase_drugs = df_phase_drugs[~df_phase_drugs['EligibilityCriteria'].str.contains('Politte')]"
   ]
  },
  {
   "cell_type": "code",
   "execution_count": 91,
   "metadata": {},
   "outputs": [
    {
     "data": {
      "text/plain": [
       "443"
      ]
     },
     "execution_count": 91,
     "metadata": {},
     "output_type": "execute_result"
    }
   ],
   "source": [
    "len(df_phase_drugs)"
   ]
  },
  {
   "cell_type": "code",
   "execution_count": 106,
   "metadata": {},
   "outputs": [],
   "source": [
    "targets = ['Autis', 'autis', 'Rett', 'Angelman', 'uberous', 'Phelan', '15q', 'Fragile X', 'Asperger', 'Williams', 'Pervasive Developmental Disorder']"
   ]
  },
  {
   "cell_type": "code",
   "execution_count": 107,
   "metadata": {},
   "outputs": [
    {
     "data": {
      "text/plain": [
       "5        True\n",
       "13       True\n",
       "28       True\n",
       "38       True\n",
       "42       True\n",
       "        ...  \n",
       "1996    False\n",
       "2000    False\n",
       "2002    False\n",
       "2007    False\n",
       "2010    False\n",
       "Name: ConditionBrowseLeafAsFound, Length: 443, dtype: bool"
      ]
     },
     "execution_count": 107,
     "metadata": {},
     "output_type": "execute_result"
    }
   ],
   "source": [
    "extra_filter_mask = df_phase_drugs['ConditionBrowseLeafAsFound'].str.contains('Autis|autis|Rett|Angelman|uberous|Phelan|15q|Fragile X|Asperger|Williams|Pervasive Developmental Disorder', regex=True, na=False)\n",
    "extra_filter_mask"
   ]
  },
  {
   "cell_type": "code",
   "execution_count": 109,
   "metadata": {},
   "outputs": [
    {
     "data": {
      "text/plain": [
       "5        True\n",
       "13       True\n",
       "28       True\n",
       "38       True\n",
       "42       True\n",
       "        ...  \n",
       "1996    False\n",
       "2000    False\n",
       "2002    False\n",
       "2007    False\n",
       "2010    False\n",
       "Name: ConditionBrowseLeafAsFound, Length: 443, dtype: bool"
      ]
     },
     "execution_count": 109,
     "metadata": {},
     "output_type": "execute_result"
    }
   ],
   "source": [
    "s = pd.Series(extra_filter_mask)\n",
    "s"
   ]
  },
  {
   "cell_type": "markdown",
   "metadata": {},
   "source": [
    "ALSO LOOK AT ROWS LOST TO THIS FILTERING, EXPORT LOST ROWS TO CSV TO STUDY."
   ]
  },
  {
   "cell_type": "code",
   "execution_count": 110,
   "metadata": {},
   "outputs": [],
   "source": [
    "df_phase_drugs_extra_filter = df_phase_drugs[s.values]"
   ]
  },
  {
   "cell_type": "code",
   "execution_count": 112,
   "metadata": {},
   "outputs": [
    {
     "data": {
      "text/plain": [
       "312"
      ]
     },
     "execution_count": 112,
     "metadata": {},
     "output_type": "execute_result"
    }
   ],
   "source": [
    "len(df_phase_drugs_extra_filter)"
   ]
  },
  {
   "cell_type": "code",
   "execution_count": 117,
   "metadata": {},
   "outputs": [],
   "source": [
    "def check_for_placebo(row):\n",
    "    if 'Placebo' in row['ArmGroupInterventionName']:\n",
    "        return 'Yes'\n",
    "    else:\n",
    "        return 'No'"
   ]
  },
  {
   "cell_type": "code",
   "execution_count": 123,
   "metadata": {},
   "outputs": [
    {
     "name": "stderr",
     "output_type": "stream",
     "text": [
      "C:\\Users\\nsmcc\\AppData\\Local\\Temp/ipykernel_14572/2400386331.py:1: SettingWithCopyWarning: \n",
      "A value is trying to be set on a copy of a slice from a DataFrame.\n",
      "Try using .loc[row_indexer,col_indexer] = value instead\n",
      "\n",
      "See the caveats in the documentation: https://pandas.pydata.org/pandas-docs/stable/user_guide/indexing.html#returning-a-view-versus-a-copy\n",
      "  df_phase_drugs_extra_filter['Placebo'] = df_phase_drugs_extra_filter['ArmGroupInterventionName'].apply(lambda x: 'Yes' if 'Placebo' in str(x) else 'No')\n"
     ]
    }
   ],
   "source": [
    "df_phase_drugs_extra_filter['Placebo'] = df_phase_drugs_extra_filter['ArmGroupInterventionName'].apply(lambda x: 'Yes' if 'Placebo' in str(x) else 'No')"
   ]
  },
  {
   "cell_type": "markdown",
   "metadata": {},
   "source": [
    "Change data types of columns."
   ]
  },
  {
   "cell_type": "code",
   "execution_count": 126,
   "metadata": {},
   "outputs": [
    {
     "data": {
      "text/html": [
       "<div>\n",
       "<style scoped>\n",
       "    .dataframe tbody tr th:only-of-type {\n",
       "        vertical-align: middle;\n",
       "    }\n",
       "\n",
       "    .dataframe tbody tr th {\n",
       "        vertical-align: top;\n",
       "    }\n",
       "\n",
       "    .dataframe thead th {\n",
       "        text-align: right;\n",
       "    }\n",
       "</style>\n",
       "<table border=\"1\" class=\"dataframe\">\n",
       "  <thead>\n",
       "    <tr style=\"text-align: right;\">\n",
       "      <th></th>\n",
       "      <th>Unnamed: 0</th>\n",
       "      <th>index</th>\n",
       "      <th>Rank</th>\n",
       "      <th>Acronym</th>\n",
       "      <th>ArmGroupDescription</th>\n",
       "      <th>ArmGroupInterventionName</th>\n",
       "      <th>ArmGroupLabel</th>\n",
       "      <th>ArmGroupType</th>\n",
       "      <th>BriefSummary</th>\n",
       "      <th>BriefTitle</th>\n",
       "      <th>...</th>\n",
       "      <th>StdAge</th>\n",
       "      <th>StudyFirstPostDate</th>\n",
       "      <th>StudyFirstPostDateType</th>\n",
       "      <th>StudyFirstSubmitDate</th>\n",
       "      <th>StudyFirstSubmitQCDate</th>\n",
       "      <th>StudyPopulation</th>\n",
       "      <th>StudyType</th>\n",
       "      <th>VersionHolder</th>\n",
       "      <th>WhyStopped</th>\n",
       "      <th>Placebo</th>\n",
       "    </tr>\n",
       "  </thead>\n",
       "  <tbody>\n",
       "    <tr>\n",
       "      <th>5</th>\n",
       "      <td>5</td>\n",
       "      <td>5</td>\n",
       "      <td>6</td>\n",
       "      <td>Lisphem</td>\n",
       "      <td>Li+ is an FDA (NDA: 016834) and ANSM (AMM 3400...</td>\n",
       "      <td>Drug: Lithium Carbonate|Drug: Placebo</td>\n",
       "      <td>Lithium|Placebo</td>\n",
       "      <td>Experimental|Placebo Comparator</td>\n",
       "      <td>There is currently no treatment for the body s...</td>\n",
       "      <td>Effect of Lithium in Patients With Autism Spec...</td>\n",
       "      <td>...</td>\n",
       "      <td>Child|Adult</td>\n",
       "      <td>November 10, 2020</td>\n",
       "      <td>Actual</td>\n",
       "      <td>November 5, 2020</td>\n",
       "      <td>November 9, 2020</td>\n",
       "      <td>NaN</td>\n",
       "      <td>Interventional</td>\n",
       "      <td>October 15, 2021</td>\n",
       "      <td>NaN</td>\n",
       "      <td>Yes</td>\n",
       "    </tr>\n",
       "    <tr>\n",
       "      <th>13</th>\n",
       "      <td>13</td>\n",
       "      <td>13</td>\n",
       "      <td>14</td>\n",
       "      <td>NaN</td>\n",
       "      <td>intranasal ketamine and dexmedetomidine was tr...</td>\n",
       "      <td>Drug: ketamine and dexmedetomidine|Drug: ketam...</td>\n",
       "      <td>ketamine and dexmedetomidine group|ketamine gr...</td>\n",
       "      <td>Experimental|Experimental|Placebo Comparator</td>\n",
       "      <td>Autism spectrum disorder (ASD) is a life-long ...</td>\n",
       "      <td>Intranasal Ketamine With Dexmedetomidine for t...</td>\n",
       "      <td>...</td>\n",
       "      <td>Child</td>\n",
       "      <td>February 15, 2018</td>\n",
       "      <td>Actual</td>\n",
       "      <td>January 28, 2018</td>\n",
       "      <td>February 9, 2018</td>\n",
       "      <td>NaN</td>\n",
       "      <td>Interventional</td>\n",
       "      <td>October 15, 2021</td>\n",
       "      <td>NaN</td>\n",
       "      <td>No</td>\n",
       "    </tr>\n",
       "    <tr>\n",
       "      <th>28</th>\n",
       "      <td>28</td>\n",
       "      <td>28</td>\n",
       "      <td>29</td>\n",
       "      <td>Autism</td>\n",
       "      <td>15 mg/kg oral solution three times per day, ma...</td>\n",
       "      <td>Drug: EPI-743</td>\n",
       "      <td>EPI-743</td>\n",
       "      <td>Experimental</td>\n",
       "      <td>The investigators hypothesize that EPI-743 may...</td>\n",
       "      <td>An Exploratory Open Label Study of EPI-743 (Vi...</td>\n",
       "      <td>...</td>\n",
       "      <td>Child</td>\n",
       "      <td>August 27, 2014</td>\n",
       "      <td>Estimate</td>\n",
       "      <td>August 21, 2014</td>\n",
       "      <td>August 25, 2014</td>\n",
       "      <td>NaN</td>\n",
       "      <td>Interventional</td>\n",
       "      <td>October 15, 2021</td>\n",
       "      <td>This study was halted prior to enrolling.</td>\n",
       "      <td>No</td>\n",
       "    </tr>\n",
       "    <tr>\n",
       "      <th>38</th>\n",
       "      <td>38</td>\n",
       "      <td>38</td>\n",
       "      <td>39</td>\n",
       "      <td>NaN</td>\n",
       "      <td>Participants in the placebo arm will receive p...</td>\n",
       "      <td>Drug: Memantine|Other: Placebo</td>\n",
       "      <td>Memantine|Placebo|Control Group</td>\n",
       "      <td>Experimental|Placebo Comparator|No Intervention</td>\n",
       "      <td>This study is a 12-week, randomized-controlled...</td>\n",
       "      <td>Behavioral and Neural Response to Memantine in...</td>\n",
       "      <td>...</td>\n",
       "      <td>Child</td>\n",
       "      <td>October 30, 2013</td>\n",
       "      <td>Estimate</td>\n",
       "      <td>October 24, 2013</td>\n",
       "      <td>October 29, 2013</td>\n",
       "      <td>NaN</td>\n",
       "      <td>Interventional</td>\n",
       "      <td>October 15, 2021</td>\n",
       "      <td>NaN</td>\n",
       "      <td>Yes</td>\n",
       "    </tr>\n",
       "    <tr>\n",
       "      <th>42</th>\n",
       "      <td>42</td>\n",
       "      <td>42</td>\n",
       "      <td>43</td>\n",
       "      <td>NaN</td>\n",
       "      <td>Patients with Phelan-McDermid syndrome receive...</td>\n",
       "      <td>Drug: Recombinant human Growth hormone</td>\n",
       "      <td>Phelan-McDermid syndrome</td>\n",
       "      <td>Experimental</td>\n",
       "      <td>Phelan McDermid syndrome (PMS) is a rare genet...</td>\n",
       "      <td>Growth Hormone Treatment in Children With Phel...</td>\n",
       "      <td>...</td>\n",
       "      <td>Child</td>\n",
       "      <td>July 1, 2019</td>\n",
       "      <td>Actual</td>\n",
       "      <td>June 27, 2019</td>\n",
       "      <td>June 27, 2019</td>\n",
       "      <td>NaN</td>\n",
       "      <td>Interventional</td>\n",
       "      <td>October 15, 2021</td>\n",
       "      <td>NaN</td>\n",
       "      <td>No</td>\n",
       "    </tr>\n",
       "  </tbody>\n",
       "</table>\n",
       "<p>5 rows × 160 columns</p>\n",
       "</div>"
      ],
      "text/plain": [
       "    Unnamed: 0  index  Rank  Acronym  \\\n",
       "5            5      5     6  Lisphem   \n",
       "13          13     13    14      NaN   \n",
       "28          28     28    29   Autism   \n",
       "38          38     38    39      NaN   \n",
       "42          42     42    43      NaN   \n",
       "\n",
       "                                  ArmGroupDescription  \\\n",
       "5   Li+ is an FDA (NDA: 016834) and ANSM (AMM 3400...   \n",
       "13  intranasal ketamine and dexmedetomidine was tr...   \n",
       "28  15 mg/kg oral solution three times per day, ma...   \n",
       "38  Participants in the placebo arm will receive p...   \n",
       "42  Patients with Phelan-McDermid syndrome receive...   \n",
       "\n",
       "                             ArmGroupInterventionName  \\\n",
       "5               Drug: Lithium Carbonate|Drug: Placebo   \n",
       "13  Drug: ketamine and dexmedetomidine|Drug: ketam...   \n",
       "28                                      Drug: EPI-743   \n",
       "38                     Drug: Memantine|Other: Placebo   \n",
       "42             Drug: Recombinant human Growth hormone   \n",
       "\n",
       "                                        ArmGroupLabel  \\\n",
       "5                                     Lithium|Placebo   \n",
       "13  ketamine and dexmedetomidine group|ketamine gr...   \n",
       "28                                            EPI-743   \n",
       "38                    Memantine|Placebo|Control Group   \n",
       "42                           Phelan-McDermid syndrome   \n",
       "\n",
       "                                       ArmGroupType  \\\n",
       "5                   Experimental|Placebo Comparator   \n",
       "13     Experimental|Experimental|Placebo Comparator   \n",
       "28                                     Experimental   \n",
       "38  Experimental|Placebo Comparator|No Intervention   \n",
       "42                                     Experimental   \n",
       "\n",
       "                                         BriefSummary  \\\n",
       "5   There is currently no treatment for the body s...   \n",
       "13  Autism spectrum disorder (ASD) is a life-long ...   \n",
       "28  The investigators hypothesize that EPI-743 may...   \n",
       "38  This study is a 12-week, randomized-controlled...   \n",
       "42  Phelan McDermid syndrome (PMS) is a rare genet...   \n",
       "\n",
       "                                           BriefTitle  ...       StdAge  \\\n",
       "5   Effect of Lithium in Patients With Autism Spec...  ...  Child|Adult   \n",
       "13  Intranasal Ketamine With Dexmedetomidine for t...  ...        Child   \n",
       "28  An Exploratory Open Label Study of EPI-743 (Vi...  ...        Child   \n",
       "38  Behavioral and Neural Response to Memantine in...  ...        Child   \n",
       "42  Growth Hormone Treatment in Children With Phel...  ...        Child   \n",
       "\n",
       "   StudyFirstPostDate StudyFirstPostDateType StudyFirstSubmitDate  \\\n",
       "5   November 10, 2020                 Actual     November 5, 2020   \n",
       "13  February 15, 2018                 Actual     January 28, 2018   \n",
       "28    August 27, 2014               Estimate      August 21, 2014   \n",
       "38   October 30, 2013               Estimate     October 24, 2013   \n",
       "42       July 1, 2019                 Actual        June 27, 2019   \n",
       "\n",
       "   StudyFirstSubmitQCDate StudyPopulation       StudyType     VersionHolder  \\\n",
       "5        November 9, 2020             NaN  Interventional  October 15, 2021   \n",
       "13       February 9, 2018             NaN  Interventional  October 15, 2021   \n",
       "28        August 25, 2014             NaN  Interventional  October 15, 2021   \n",
       "38       October 29, 2013             NaN  Interventional  October 15, 2021   \n",
       "42          June 27, 2019             NaN  Interventional  October 15, 2021   \n",
       "\n",
       "                                   WhyStopped Placebo  \n",
       "5                                         NaN     Yes  \n",
       "13                                        NaN      No  \n",
       "28  This study was halted prior to enrolling.      No  \n",
       "38                                        NaN     Yes  \n",
       "42                                        NaN      No  \n",
       "\n",
       "[5 rows x 160 columns]"
      ]
     },
     "execution_count": 126,
     "metadata": {},
     "output_type": "execute_result"
    }
   ],
   "source": [
    "df_phase_drugs_extra_filter.head()"
   ]
  },
  {
   "cell_type": "markdown",
   "metadata": {},
   "source": [
    "Now I want to create a new column, called Drugs, that lists out the various Drugs that are not listed as Placebo. "
   ]
  },
  {
   "cell_type": "code",
   "execution_count": 127,
   "metadata": {},
   "outputs": [],
   "source": [
    "df_phase_drugs_extra_filter.to_csv('datasets/20211015_drug_trials_filtered_phase_drugs_extra.csv')"
   ]
  },
  {
   "cell_type": "code",
   "execution_count": null,
   "metadata": {},
   "outputs": [],
   "source": []
  }
 ],
 "metadata": {
  "interpreter": {
   "hash": "1f5e17c7c2cc0290fd95add71a2dc4a9e4a8bae7ef431295bcf9b21f32577e6a"
  },
  "kernelspec": {
   "display_name": "Python 3.9.7 64-bit",
   "name": "python3"
  },
  "language_info": {
   "codemirror_mode": {
    "name": "ipython",
    "version": 3
   },
   "file_extension": ".py",
   "mimetype": "text/x-python",
   "name": "python",
   "nbconvert_exporter": "python",
   "pygments_lexer": "ipython3",
   "version": "3.9.7"
  },
  "orig_nbformat": 4
 },
 "nbformat": 4,
 "nbformat_minor": 2
}
